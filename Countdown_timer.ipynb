{
  "nbformat": 4,
  "nbformat_minor": 0,
  "metadata": {
    "colab": {
      "name": "Countdown_timer.ipynb",
      "provenance": [],
      "authorship_tag": "ABX9TyNM5k/BFGqAVzUnalPOZhQy",
      "include_colab_link": true
    },
    "kernelspec": {
      "name": "python3",
      "display_name": "Python 3"
    },
    "language_info": {
      "name": "python"
    }
  },
  "cells": [
    {
      "cell_type": "markdown",
      "metadata": {
        "id": "view-in-github",
        "colab_type": "text"
      },
      "source": [
        "<a href=\"https://colab.research.google.com/github/abhishekcn7/countdowntimer/blob/main/Countdown_timer.ipynb\" target=\"_parent\"><img src=\"https://colab.research.google.com/assets/colab-badge.svg\" alt=\"Open In Colab\"/></a>"
      ]
    },
    {
      "cell_type": "code",
      "metadata": {
        "colab": {
          "base_uri": "https://localhost:8080/"
        },
        "id": "gEtOJtpM1wVr",
        "outputId": "bbc5c81f-a388-4598-d7a3-8d3666182215"
      },
      "source": [
        "import time\n",
        "\n",
        "def countdown(t):\n",
        "    while t:\n",
        "        mins,secs=divmod(t,60)\n",
        "        timer='{:02}:{:02d}'.format(mins,secs)\n",
        "        print(timer, end=\"\\r\")\n",
        "        time.sleep(1)\n",
        "        t-=1\n",
        "\n",
        "    print('Timer completed!')\n",
        "t=input('Enter the time in seconds: ')\n",
        "\n",
        "countdown(int(t))\n"
      ],
      "execution_count": 1,
      "outputs": [
        {
          "output_type": "stream",
          "name": "stdout",
          "text": [
            "Enter the time in seconds: 10\n",
            "Timer completed!\n"
          ]
        }
      ]
    }
  ]
}